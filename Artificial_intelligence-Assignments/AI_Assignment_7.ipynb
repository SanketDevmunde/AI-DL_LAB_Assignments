{
  "nbformat": 4,
  "nbformat_minor": 0,
  "metadata": {
    "colab": {
      "provenance": []
    },
    "kernelspec": {
      "name": "python3",
      "display_name": "Python 3"
    },
    "language_info": {
      "name": "python"
    }
  },
  "cells": [
    {
      "cell_type": "code",
      "source": [
        "# Knowledge base of rules (if-then rules)\n",
        "rules = {\n",
        "    'A': ['B', 'C'],\n",
        "    'B': ['D', 'E'],\n",
        "    'C': ['F'],\n",
        "    'D': [],\n",
        "    'E': [],\n",
        "    'F': []\n",
        "}\n",
        "\n",
        "# Function to implement backward chaining\n",
        "def backward_chaining(goal, facts):\n",
        "    # If the goal is already in the facts, return True\n",
        "    if goal in facts:\n",
        "        print(f\"Goal {goal} is a known fact.\")\n",
        "        return True\n",
        "\n",
        "    # If the goal has no rule associated with it, return False\n",
        "    if goal not in rules:\n",
        "        print(f\"Goal {goal} has no rule and is not a known fact.\")\n",
        "        return False\n",
        "\n",
        "    # Get the preconditions (conditions that need to be true to satisfy the goal)\n",
        "    preconditions = rules[goal]\n",
        "    print(f\"Goal {goal} depends on: {preconditions}\")\n",
        "\n",
        "    # Check each precondition\n",
        "    for precondition in preconditions:\n",
        "        if not backward_chaining(precondition, facts):\n",
        "            # If any precondition cannot be proven, return False\n",
        "            print(f\"Failed to prove {goal} because {precondition} could not be proven.\")\n",
        "            return False\n",
        "\n",
        "    # If all preconditions are true, the goal is true\n",
        "    print(f\"All preconditions for {goal} are satisfied. Goal {goal} is true.\")\n",
        "    return True\n",
        "\n",
        "# Input taking from the user\n",
        "def get_user_input():\n",
        "    # Get facts from the user\n",
        "    facts = set(input(\"Enter known facts, separated by spaces: \").split())\n",
        "\n",
        "    # Get the goal from the user\n",
        "    goal = input(\"Enter the goal you want to prove: \")\n",
        "\n",
        "    return facts, goal\n",
        "\n",
        "# Main program\n",
        "if __name__ == \"__main__\":\n",
        "    # Get user input\n",
        "    facts, goal = get_user_input()\n",
        "\n",
        "    # Run the backward chaining algorithm with the user-provided facts and goal\n",
        "    result = backward_chaining(goal, facts)\n",
        "\n",
        "    # Display the final result\n",
        "    if result:\n",
        "        print(f\"\\nThe goal '{goal}' can be proven true.\")\n",
        "    else:\n",
        "        print(f\"\\nThe goal '{goal}' cannot be proven.\")\n"
      ],
      "metadata": {
        "colab": {
          "base_uri": "https://localhost:8080/"
        },
        "id": "aRoHL1_s5atr",
        "outputId": "a3d845c4-366f-42cd-d3e3-b0c1b997001d"
      },
      "execution_count": null,
      "outputs": [
        {
          "output_type": "stream",
          "name": "stdout",
          "text": [
            "Enter known facts, separated by spaces: D E F\n",
            "Enter the goal you want to prove: B\n",
            "Goal B depends on: ['D', 'E']\n",
            "Goal D is a known fact.\n",
            "Goal E is a known fact.\n",
            "All preconditions for B are satisfied. Goal B is true.\n",
            "\n",
            "The goal 'B' can be proven true.\n"
          ]
        }
      ]
    }
  ]
}