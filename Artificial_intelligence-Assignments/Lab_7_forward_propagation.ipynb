{
  "nbformat": 4,
  "nbformat_minor": 0,
  "metadata": {
    "colab": {
      "provenance": []
    },
    "kernelspec": {
      "name": "python3",
      "display_name": "Python 3"
    },
    "language_info": {
      "name": "python"
    }
  },
  "cells": [
    {
      "cell_type": "code",
      "execution_count": null,
      "metadata": {
        "colab": {
          "base_uri": "https://localhost:8080/"
        },
        "id": "5lPgDN1aVP-w",
        "outputId": "e6410f79-9535-4c81-ca01-dada3a2be4ea"
      },
      "outputs": [
        {
          "output_type": "stream",
          "name": "stdout",
          "text": [
            "New fact inferred: C\n",
            "New fact inferred: E\n",
            "New fact inferred: F\n",
            "Final facts: {'A', 'D', 'F', 'B', 'C', 'E'}\n"
          ]
        }
      ],
      "source": [
        "# Define known facts and rules\n",
        "facts = {\"A\"}  # Initial facts\n",
        "rules = {\n",
        "    \"A and B\": \"C\",\n",
        "    \"C and D\": \"E\",\n",
        "    \"E\": \"F\"\n",
        "}\n",
        "\n",
        "# Forward chaining logic\n",
        "def forward_chaining(facts, rules):\n",
        "    while True:\n",
        "        new_fact_added = False\n",
        "        for condition, conclusion in rules.items():\n",
        "            # Split condition into individual facts\n",
        "            conditions_met = all(cond in facts for cond in condition.split(\" and \"))\n",
        "            if conditions_met and conclusion not in facts:\n",
        "                facts.add(conclusion)\n",
        "                new_fact_added = True\n",
        "                print(f\"New fact inferred: {conclusion}\")\n",
        "        if not new_fact_added:\n",
        "            break\n",
        "    return facts\n",
        "\n",
        "# Add new facts dynamically\n",
        "facts.add(\"B\")\n",
        "facts.add(\"D\")\n",
        "\n",
        "# Perform forward chaining\n",
        "result = forward_chaining(facts, rules)\n",
        "print(f\"Final facts: {result}\")\n"
      ]
    }
  ]
}