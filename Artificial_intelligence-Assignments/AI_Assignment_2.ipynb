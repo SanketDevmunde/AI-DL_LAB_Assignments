{
  "nbformat": 4,
  "nbformat_minor": 0,
  "metadata": {
    "colab": {
      "provenance": []
    },
    "kernelspec": {
      "name": "python3",
      "display_name": "Python 3"
    },
    "language_info": {
      "name": "python"
    }
  },
  "cells": [
    {
      "cell_type": "code",
      "source": [
        "print(\"\\nWelcome to the Missionaries and Cannibals Problem!\")\n",
        "print(\"\\nObjective: Move all the missionaries and cannibals from the left side to the right side of the river.\")\n",
        "print(\"Rules:\\n1. The boat can carry at most two people.\\n2. If cannibals outnumber missionaries on either side, the cannibals will eat the missionaries.\\n3. The boat cannot travel without any passengers.\\n\")\n",
        "\n",
        "left_missionaries = 3\n",
        "left_cannibals = 3\n",
        "right_missionaries = 0\n",
        "right_cannibals = 0\n",
        "\n",
        "print(\"\\nInitial State: \\nM M M C C C | --- | \\n\")\n",
        "\n",
        "attempts = 0\n",
        "\n",
        "try:\n",
        "    while True:\n",
        "        while True:\n",
        "            print(\"Move from left to right:\")\n",
        "            missionaries_to_move = int(input(\"Enter number of Missionaries to move: \"))\n",
        "            cannibals_to_move = int(input(\"Enter number of Cannibals to move: \"))\n",
        "\n",
        "            if missionaries_to_move == 0 and cannibals_to_move == 0:\n",
        "                print(\"You must move at least one person. Please re-enter.\")\n",
        "            elif missionaries_to_move + cannibals_to_move <= 2 and missionaries_to_move <= left_missionaries and cannibals_to_move <= left_cannibals:\n",
        "                break\n",
        "            else:\n",
        "                print(\"Invalid move. Please re-enter.\")\n",
        "\n",
        "        left_missionaries -= missionaries_to_move\n",
        "        left_cannibals -= cannibals_to_move\n",
        "        right_missionaries += missionaries_to_move\n",
        "        right_cannibals += cannibals_to_move\n",
        "\n",
        "        print(\"\\nCurrent State:\")\n",
        "        print(\"Left Side: \" + \"M \" * left_missionaries + \"C \" * left_cannibals + \"| --> | \" + \"M \" * right_missionaries + \"C \" * right_cannibals + \"\\n\")\n",
        "\n",
        "        attempts += 1\n",
        "\n",
        "        if (left_cannibals > left_missionaries > 0) or (right_cannibals > right_missionaries > 0):\n",
        "            print(\"Cannibals have outnumbered missionaries. You lost the game.\")\n",
        "            break\n",
        "\n",
        "        if right_missionaries + right_cannibals == 6:\n",
        "            print(\"Congratulations! You won the game in\", attempts, \"attempts.\")\n",
        "            break\n",
        "\n",
        "        while True:\n",
        "            print(\"Move from right to left:\")\n",
        "            missionaries_to_move_back = int(input(\"Enter number of Missionaries to move: \"))\n",
        "            cannibals_to_move_back = int(input(\"Enter number of Cannibals to move: \"))\n",
        "\n",
        "            if missionaries_to_move_back == 0 and cannibals_to_move_back == 0:\n",
        "                print(\"You must move at least one person. Please re-enter.\")\n",
        "            elif missionaries_to_move_back + cannibals_to_move_back <= 2 and missionaries_to_move_back <= right_missionaries and cannibals_to_move_back <= right_cannibals:\n",
        "                break\n",
        "            else:\n",
        "                print(\"Invalid move. Please re-enter.\")\n",
        "\n",
        "        left_missionaries += missionaries_to_move_back\n",
        "        left_cannibals += cannibals_to_move_back\n",
        "        right_missionaries -= missionaries_to_move_back\n",
        "        right_cannibals -= cannibals_to_move_back\n",
        "\n",
        "        attempts += 1\n",
        "\n",
        "        print(\"\\nCurrent State:\")\n",
        "        print(\"Left Side: \" + \"M \" * left_missionaries + \"C \" * left_cannibals + \"| <-- | \" + \"M \" * right_missionaries + \"C \" * right_cannibals + \"\\n\")\n",
        "\n",
        "        if (left_cannibals > left_missionaries > 0) or (right_cannibals > right_missionaries > 0):\n",
        "            print(\"Cannibals have outnumbered missionaries. You lost the game.\")\n",
        "            break\n",
        "\n",
        "except EOFError:\n",
        "    print(\"\\nInvalid input. Please restart the game.\")"
      ],
      "metadata": {
        "id": "O6Bq8vOC2RCN",
        "colab": {
          "base_uri": "https://localhost:8080/"
        },
        "outputId": "3a5dabd9-cdbd-47fe-e6c0-88d2f068d4ea"
      },
      "execution_count": null,
      "outputs": [
        {
          "output_type": "stream",
          "name": "stdout",
          "text": [
            "\n",
            "Welcome to the Missionaries and Cannibals Problem!\n",
            "\n",
            "Objective: Move all the missionaries and cannibals from the left side to the right side of the river.\n",
            "Rules:\n",
            "1. The boat can carry at most two people.\n",
            "2. If cannibals outnumber missionaries on either side, the cannibals will eat the missionaries.\n",
            "3. The boat cannot travel without any passengers.\n",
            "\n",
            "\n",
            "Initial State: \n",
            "M M M C C C | --- | \n",
            "\n",
            "Move from left to right:\n",
            "Enter number of Missionaries to move: 3\n",
            "Enter number of Cannibals to move: 3\n",
            "Invalid move. Please re-enter.\n",
            "Move from left to right:\n",
            "Enter number of Missionaries to move: 1\n",
            "Enter number of Cannibals to move: 1\n",
            "\n",
            "Current State:\n",
            "Left Side: M M C C | --> | M C \n",
            "\n",
            "Move from right to left:\n"
          ]
        }
      ]
    }
  ]
}