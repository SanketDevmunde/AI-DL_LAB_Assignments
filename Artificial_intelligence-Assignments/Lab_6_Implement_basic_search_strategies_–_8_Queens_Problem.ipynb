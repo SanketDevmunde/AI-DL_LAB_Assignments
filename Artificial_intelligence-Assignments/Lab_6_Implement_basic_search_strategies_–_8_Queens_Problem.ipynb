{
  "nbformat": 4,
  "nbformat_minor": 0,
  "metadata": {
    "colab": {
      "provenance": []
    },
    "kernelspec": {
      "name": "python3",
      "display_name": "Python 3"
    },
    "language_info": {
      "name": "python"
    }
  },
  "cells": [
    {
      "cell_type": "code",
      "execution_count": null,
      "metadata": {
        "id": "6zOvS-NLNGE9"
      },
      "outputs": [],
      "source": [
        "def check(row, col):\n",
        "    for i in range(row):\n",
        "        prow = i\n",
        "        pcol = queen[i]\n",
        "\n",
        "        if col == pcol or abs(row - prow) == abs(col - pcol):\n",
        "            return False\n",
        "    return True\n",
        "\n",
        "\n",
        "def rec(row):  # rec --> will return no.of .ways in which I can populate my array\n",
        "    # level --> row in which we are placing the queen\n",
        "\n",
        "    # General steps in Recursion\n",
        "    # pruning\n",
        "\n",
        "    # basecase\n",
        "    # Convert the queen positions to a board configuration\n",
        "    if row == n:\n",
        "        board = []\n",
        "        for i in range(n):\n",
        "            line = '.' * queen[i] + 'Q' + '.' * (n - queen[i] - 1)\n",
        "            board.append(line)\n",
        "        return [board]\n",
        "\n",
        "    # compute\n",
        "        # choice --> col\n",
        "\n",
        "    ans = []\n",
        "\n",
        "    # loop over all the choice\n",
        "    for col in range(n):\n",
        "        # check if choice is valid\n",
        "        if check(row, col):\n",
        "            # place the queen\n",
        "            queen[row] = col\n",
        "\n",
        "            # move to next level\n",
        "            ans.extend(rec(row+1))\n",
        "\n",
        "            # Generally follow this practice of reverting back in backtracking problems\n",
        "            queen[row] = -1\n",
        "\n",
        "    # return\n",
        "    return ans\n",
        "\n",
        "\n",
        "n = int(input(\"Enter the size of the chessboard (N): \"))\n",
        "\n",
        "queen = [-1] * n  # Initialize the queen array with -1 for n rows\n",
        "\n",
        "print(rec(0))\n"
      ]
    }
  ]
}