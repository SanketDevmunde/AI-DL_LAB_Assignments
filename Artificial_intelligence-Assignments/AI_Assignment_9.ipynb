{
  "nbformat": 4,
  "nbformat_minor": 0,
  "metadata": {
    "colab": {
      "provenance": []
    },
    "kernelspec": {
      "name": "python3",
      "display_name": "Python 3"
    },
    "language_info": {
      "name": "python"
    }
  },
  "cells": [
    {
      "cell_type": "code",
      "execution_count": 3,
      "metadata": {
        "colab": {
          "base_uri": "https://localhost:8080/"
        },
        "id": "w0oTFIk1mIzi",
        "outputId": "d3e54b1c-435a-47c7-f648-0f2778285952"
      },
      "outputs": [
        {
          "output_type": "stream",
          "name": "stderr",
          "text": [
            "[nltk_data] Downloading package punkt to /root/nltk_data...\n",
            "[nltk_data]   Unzipping tokenizers/punkt.zip.\n",
            "[nltk_data] Downloading package wordnet to /root/nltk_data...\n"
          ]
        },
        {
          "output_type": "stream",
          "name": "stdout",
          "text": [
            "BankBot: I am BankBot. How can I assist you with our banking services? Type 'bye' to exit.\n",
            "You: I want to know about investment\n",
            "BankBot: Welcome to our banking services.\n",
            "You: what can you do for me\n",
            "BankBot: How do I apply for a loan?\n",
            "You: how do i apply for a loan?\n",
            "BankBot: How do I apply for a loan?\n",
            "You: bye\n",
            "BankBot: Goodbye! Have a nice day!\n"
          ]
        }
      ],
      "source": [
        "import nltk\n",
        "from nltk.stem import WordNetLemmatizer\n",
        "import numpy as np\n",
        "from sklearn.feature_extraction.text import CountVectorizer\n",
        "from sklearn.metrics.pairwise import cosine_similarity\n",
        "import random\n",
        "import string\n",
        "\n",
        "# Download required NLTK data\n",
        "nltk.download('punkt')\n",
        "nltk.download('wordnet')\n",
        "\n",
        "# Sample data for the chatbot (banking context)\n",
        "data = \"\"\"\n",
        "Hello! Welcome to our banking services. We offer various services such as account opening, money transfer, loan applications, and much more.\n",
        "How can I open a new account?\n",
        "To open a new account, you need to visit our nearest branch or you can open an account online through our website.\n",
        "What are the documents required for account opening?\n",
        "You will need a valid ID proof, address proof, and a passport-sized photograph.\n",
        "How can I transfer money?\n",
        "You can transfer money through internet banking, mobile banking, or by visiting our branch.\n",
        "How do I apply for a loan?\n",
        "To apply for a loan, please visit our nearest branch or use our online banking system to submit a loan application.\n",
        "What is the interest rate for loans?\n",
        "The interest rate depends on the loan type and amount. Please visit our website or contact our branch for detailed information.\n",
        "How can I check my account balance?\n",
        "You can check your account balance through internet banking, mobile banking, or by visiting our ATM.\n",
        "\"\"\"\n",
        "\n",
        "# Tokenization\n",
        "lemmatizer = WordNetLemmatizer()\n",
        "def LemTokens(tokens):\n",
        "    return [lemmatizer.lemmatize(token) for token in tokens]\n",
        "\n",
        "remove_punct_dict = dict((ord(punct), None) for punct in string.punctuation)\n",
        "\n",
        "def LemNormalize(text):\n",
        "    return LemTokens(nltk.word_tokenize(text.lower().translate(remove_punct_dict)))\n",
        "\n",
        "# Greeting responses\n",
        "greeting_inputs = (\"hello\", \"hi\", \"greetings\", \"sup\", \"what's up\", \"hey\", \"good morning\", \"good evening\")\n",
        "greeting_responses = [\"Hello!\", \"Hi!\", \"Greetings!\", \"Hey there!\", \"Hi, how can I help you today?\"]\n",
        "\n",
        "def greeting(sentence):\n",
        "    for word in sentence.split():\n",
        "        if word.lower() in greeting_inputs:\n",
        "            return random.choice(greeting_responses)\n",
        "\n",
        "# Respond function\n",
        "def response(user_response):\n",
        "    bot_response = ''\n",
        "    sentence_list.append(user_response)\n",
        "    cm = CountVectorizer().fit_transform(sentence_list)\n",
        "    similarity_scores = cosine_similarity(cm[-1], cm)\n",
        "    idx = similarity_scores.argsort()[0][-2]\n",
        "    flat = similarity_scores.flatten()\n",
        "    flat.sort()\n",
        "    score = flat[-2]\n",
        "\n",
        "    if score == 0:\n",
        "        bot_response = \"I'm sorry, I don't understand.\"\n",
        "    else:\n",
        "        bot_response = sentence_list[idx]\n",
        "\n",
        "    sentence_list.remove(user_response)\n",
        "    return bot_response\n",
        "\n",
        "# Main chatbot function\n",
        "def chatbot():\n",
        "    print(\"BankBot: I am BankBot. How can I assist you with our banking services? Type 'bye' to exit.\")\n",
        "\n",
        "    exit_chat = False\n",
        "    while not exit_chat:\n",
        "        user_input = input(\"You: \").lower()\n",
        "        if user_input != 'bye':\n",
        "            if user_input == 'thanks' or user_input == 'thank you':\n",
        "                exit_chat = True\n",
        "                print(\"BankBot: You're welcome! Have a nice day!\")\n",
        "            else:\n",
        "                if greeting(user_input) is not None:\n",
        "                    print(\"BankBot:\", greeting(user_input))\n",
        "                else:\n",
        "                    print(\"BankBot:\", response(user_input))\n",
        "        else:\n",
        "            exit_chat = True\n",
        "            print(\"BankBot: Goodbye! Have a nice day!\")\n",
        "\n",
        "# Preprocessing the data and starting the chatbot\n",
        "sentence_list = nltk.sent_tokenize(data)\n",
        "chatbot()\n",
        "\n"
      ]
    }
  ]
}