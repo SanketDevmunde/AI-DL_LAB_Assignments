{
  "nbformat": 4,
  "nbformat_minor": 0,
  "metadata": {
    "colab": {
      "provenance": []
    },
    "kernelspec": {
      "name": "python3",
      "display_name": "Python 3"
    },
    "language_info": {
      "name": "python"
    }
  },
  "cells": [
    {
      "cell_type": "code",
      "execution_count": null,
      "metadata": {
        "colab": {
          "base_uri": "https://localhost:8080/"
        },
        "id": "RQ9T1nFhXrCs",
        "outputId": "dfcc4fcd-e6b0-49fb-eac1-91d31e175954"
      },
      "outputs": [
        {
          "output_type": "stream",
          "name": "stdout",
          "text": [
            "Proven: C\n",
            "Proven: E\n",
            "Proven: F\n",
            "Can we prove F? True\n"
          ]
        }
      ],
      "source": [
        "# Define rules and facts\n",
        "rules = {\n",
        "    \"C\": [\"A\", \"B\"],      # \"C\" can be concluded if \"A\" and \"B\" are true\n",
        "    \"E\": [\"C\", \"D\"],      # \"E\" can be concluded if \"C\" and \"D\" are true\n",
        "    \"F\": [\"E\"]            # \"F\" can be concluded if \"E\" is true\n",
        "}\n",
        "facts = {\"A\", \"B\", \"D\"}  # Initial known facts\n",
        "\n",
        "# Backward chaining function\n",
        "def backward_chaining(goal, facts, rules):\n",
        "    if goal in facts:  # If the goal is already a known fact, return True\n",
        "        return True\n",
        "\n",
        "    if goal not in rules:  # If no rule leads to the goal, return False\n",
        "        return False\n",
        "\n",
        "    # Check if all sub-goals for this goal can be proven\n",
        "    sub_goals = rules[goal]\n",
        "    for sub_goal in sub_goals:\n",
        "        if not backward_chaining(sub_goal, facts, rules):\n",
        "            return False  # If any sub-goal cannot be proven, fail\n",
        "\n",
        "    # If all sub-goals are proven, the goal is proven\n",
        "    facts.add(goal)  # Add the proven goal to known facts\n",
        "    print(f\"Proven: {goal}\")\n",
        "    return True\n",
        "\n",
        "# Test backward chaining\n",
        "goal = \"F\"\n",
        "result = backward_chaining(goal, facts, rules)\n",
        "print(f\"Can we prove {goal}? {result}\")\n"
      ]
    }
  ]
}