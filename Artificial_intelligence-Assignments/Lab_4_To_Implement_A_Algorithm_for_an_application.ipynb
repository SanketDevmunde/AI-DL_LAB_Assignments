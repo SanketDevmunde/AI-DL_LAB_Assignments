{
  "nbformat": 4,
  "nbformat_minor": 0,
  "metadata": {
    "colab": {
      "provenance": []
    },
    "kernelspec": {
      "name": "python3",
      "display_name": "Python 3"
    },
    "language_info": {
      "name": "python"
    }
  },
  "cells": [
    {
      "cell_type": "code",
      "execution_count": null,
      "metadata": {
        "id": "PZchRaWfL6xw"
      },
      "outputs": [],
      "source": [
        "def Astar(G, start, end):\n",
        "    # PART 1: Choose a suitable potential\n",
        "    def potential(node):\n",
        "        return sqrt((node.x - end.x)**2 + (node.y - end.y)**2)\n",
        "\n",
        "    # PART 2: Potential reweighting\n",
        "    # for edge in G.edges:\n",
        "    u, v = edge[0], edge[1]\n",
        "    edge.Length += potential(v) - potential(u)\n",
        "\n",
        "    # PART 3: Run Dijkstra\n",
        "    boundary_nodes = {start}\n",
        "    distances = {start: 0}\n",
        "    while len(boundary_nodes) > 0:\n",
        "        # Always remove the currently closest node\n",
        "        cur_node = the node in boundary_nodes minimizing distances[node] + potential(node)\n",
        "        # Bookkeeping\n",
        "        boundary_nodes.remove(cur_node)\n",
        "        if cur_node == end:\n",
        "            return distances[end]\n",
        "\n",
        "        # Relax all neighbors\n",
        "        for each neighbor of cur_node:\n",
        "            proposed_distance = distances[cur_node] + G.edges[(cur_node, neighbor)].length\n",
        "            if neighbor not in distances or distances[neighbor] > proposed_distance:\n",
        "                distances[neighbor] = proposed_distance\n",
        "                boundary_nodes.add(neighbor)\n",
        "\n",
        "    return infinity\n"
      ]
    }
  ]
}