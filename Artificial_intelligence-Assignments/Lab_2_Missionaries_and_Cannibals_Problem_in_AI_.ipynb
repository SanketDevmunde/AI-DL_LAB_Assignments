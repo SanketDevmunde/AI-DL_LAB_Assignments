{
  "nbformat": 4,
  "nbformat_minor": 0,
  "metadata": {
    "colab": {
      "provenance": []
    },
    "kernelspec": {
      "name": "python3",
      "display_name": "Python 3"
    },
    "language_info": {
      "name": "python"
    }
  },
  "cells": [
    {
      "cell_type": "code",
      "execution_count": null,
      "metadata": {
        "id": "f53dHjDzlGOK"
      },
      "outputs": [],
      "source": [
        "\n",
        "  # here 1 and 2 is representing the banks i.e 1 and 2\n",
        "  # b = 1 for left bank\n",
        "  # b = 2 for right bank\n",
        "  # m1 = missionaries on bank 1\n",
        "  # m2 = missionaries on bank 2\n",
        "  # c1 = cannibals on bank 1\n",
        "  # c2 = cannibals on bank 2\n",
        "\n",
        ""
      ]
    },
    {
      "cell_type": "code",
      "source": [
        "def is_valid(state):\n",
        "    # Unpack the state\n",
        "    m1, c1, b, m2, c2 = state\n",
        "    # Check if the number of missionaries and cannibals on both banks is valid\n",
        "    # Also, check if the missionaries are not outnumbered by cannibals on either bank\n",
        "    return (0 <= m1 <= 3 and 0 <= m2 <= 3 and 0 <= c1 <= 3 and 0 <= c2 <= 3 and\n",
        "            (m1 == 0 or m1 >= c1) and (m2 == 0 or m2 >= c2))\n",
        "\n",
        "\n",
        "def generate_next_states(state):\n",
        "    # Unpack the state\n",
        "    m1, c1, b, m2, c2 = state\n",
        "    # Possible moves of missionaries and cannibals\n",
        "    moves = [(1, 0), (2, 0), (0, 1), (0, 2), (1, 1)]\n",
        "    next_states = []\n",
        "    # Iterate through each possible move\n",
        "    for dm, dc in moves:\n",
        "        if b == 1:  # If the boat is on the left bank\n",
        "            new_state = (m1 - dm, c1 - dc, 0, m2 + dm, c2 + dc)\n",
        "        else:  # If the boat is on the right bank (b = 0)\n",
        "            new_state = (m1 + dm, c1 + dc, 1, m2 - dm, c2 - dc)\n",
        "        # Check if the new state is valid\n",
        "        if is_valid(new_state):\n",
        "            next_states.append(new_state)\n",
        "    return next_states\n",
        "\n",
        "\n",
        "def solve_bfs(start_state):\n",
        "    # Initialize the queue with the start state and its path\n",
        "    queue = [(start_state, [start_state])]\n",
        "    while queue:\n",
        "        # Dequeue the first element\n",
        "        current_state, path = queue.pop(0)\n",
        "        # Check if we reached the goal state\n",
        "        if current_state == (0, 0, 0, 3, 3):\n",
        "            return path\n",
        "        # Generate next possible states\n",
        "        for next_state in generate_next_states(current_state):\n",
        "            # If the next state is not already in the path, add it to the queue\n",
        "            if next_state not in path:\n",
        "                queue.append((next_state, path + [next_state]))\n",
        "    return None\n",
        "\n",
        "\n",
        "# Define the starting state\n",
        "start_state = (3, 3, 1, 0, 0)\n",
        "# Solve the problem using BFS\n",
        "solution = solve_bfs(start_state)\n",
        "if solution:\n",
        "    print(\"Solution path:\")\n",
        "    for state in solution:\n",
        "        m1, c1, b, m2, c2 = state\n",
        "        # Print each state in the solution path\n",
        "        print(f\"STATE OF LEFT BANK ::: {m1} missionaries, {c1} cannibals, (WHERE IS THE BOAT)):::{'on left bank' if b == 1 else 'on right bank'}, STATE OF RIGHT BANK :::{m2} missionaries, {c2} cannibals\")\n",
        "else:\n",
        "    print(\"No solution\")\n",
        "\n",
        "\n"
      ],
      "metadata": {
        "colab": {
          "base_uri": "https://localhost:8080/"
        },
        "id": "EldpqWSZ_77q",
        "outputId": "13ff498a-95c8-410a-dae6-0a4a70c6f3af"
      },
      "execution_count": null,
      "outputs": [
        {
          "output_type": "stream",
          "name": "stdout",
          "text": [
            "Solution path:\n",
            "STATE OF LEFT BANK ::: 3 missionaries, 3 cannibals, (WHERE IS THE BOAT)):::on left bank, STATE OF RIGHT BANK :::0 missionaries, 0 cannibals\n",
            "STATE OF LEFT BANK ::: 3 missionaries, 1 cannibals, (WHERE IS THE BOAT)):::on right bank, STATE OF RIGHT BANK :::0 missionaries, 2 cannibals\n",
            "STATE OF LEFT BANK ::: 3 missionaries, 2 cannibals, (WHERE IS THE BOAT)):::on left bank, STATE OF RIGHT BANK :::0 missionaries, 1 cannibals\n",
            "STATE OF LEFT BANK ::: 3 missionaries, 0 cannibals, (WHERE IS THE BOAT)):::on right bank, STATE OF RIGHT BANK :::0 missionaries, 3 cannibals\n",
            "STATE OF LEFT BANK ::: 3 missionaries, 1 cannibals, (WHERE IS THE BOAT)):::on left bank, STATE OF RIGHT BANK :::0 missionaries, 2 cannibals\n",
            "STATE OF LEFT BANK ::: 1 missionaries, 1 cannibals, (WHERE IS THE BOAT)):::on right bank, STATE OF RIGHT BANK :::2 missionaries, 2 cannibals\n",
            "STATE OF LEFT BANK ::: 2 missionaries, 2 cannibals, (WHERE IS THE BOAT)):::on left bank, STATE OF RIGHT BANK :::1 missionaries, 1 cannibals\n",
            "STATE OF LEFT BANK ::: 0 missionaries, 2 cannibals, (WHERE IS THE BOAT)):::on right bank, STATE OF RIGHT BANK :::3 missionaries, 1 cannibals\n",
            "STATE OF LEFT BANK ::: 0 missionaries, 3 cannibals, (WHERE IS THE BOAT)):::on left bank, STATE OF RIGHT BANK :::3 missionaries, 0 cannibals\n",
            "STATE OF LEFT BANK ::: 0 missionaries, 1 cannibals, (WHERE IS THE BOAT)):::on right bank, STATE OF RIGHT BANK :::3 missionaries, 2 cannibals\n",
            "STATE OF LEFT BANK ::: 1 missionaries, 1 cannibals, (WHERE IS THE BOAT)):::on left bank, STATE OF RIGHT BANK :::2 missionaries, 2 cannibals\n",
            "STATE OF LEFT BANK ::: 0 missionaries, 0 cannibals, (WHERE IS THE BOAT)):::on right bank, STATE OF RIGHT BANK :::3 missionaries, 3 cannibals\n"
          ]
        }
      ]
    },
    {
      "cell_type": "code",
      "source": [
        "# https://javalab.org/en/boat_puzzle_en/\n",
        "\n",
        "# Website for simulation of the code"
      ],
      "metadata": {
        "colab": {
          "base_uri": "https://localhost:8080/",
          "height": 106
        },
        "id": "VImjWsouCu1H",
        "outputId": "41af899c-54f4-45b6-adf6-9fb6fe60ccde"
      },
      "execution_count": null,
      "outputs": [
        {
          "output_type": "error",
          "ename": "SyntaxError",
          "evalue": "invalid syntax (<ipython-input-36-5b50e0bea453>, line 1)",
          "traceback": [
            "\u001b[0;36m  File \u001b[0;32m\"<ipython-input-36-5b50e0bea453>\"\u001b[0;36m, line \u001b[0;32m1\u001b[0m\n\u001b[0;31m    https://javalab.org/en/boat_puzzle_en/\u001b[0m\n\u001b[0m          ^\u001b[0m\n\u001b[0;31mSyntaxError\u001b[0m\u001b[0;31m:\u001b[0m invalid syntax\n"
          ]
        }
      ]
    },
    {
      "cell_type": "code",
      "source": [],
      "metadata": {
        "id": "zvRN1QB8Cvhx"
      },
      "execution_count": null,
      "outputs": []
    }
  ]
}